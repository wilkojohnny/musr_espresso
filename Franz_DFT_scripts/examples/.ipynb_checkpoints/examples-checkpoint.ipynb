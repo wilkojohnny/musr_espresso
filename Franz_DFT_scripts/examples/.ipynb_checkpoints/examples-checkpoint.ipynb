{
 "cells": [
  {
   "cell_type": "code",
   "execution_count": 1,
   "metadata": {
    "collapsed": true
   },
   "outputs": [],
   "source": [
    "import sys, os, importlib\n",
    "sys.path.insert(0, os.path.abspath('C:/Users/lang/Desktop/DFT_Studies/DFT_scripts/'))\n",
    "from utilities import utilities, pointgrid\n",
    "from analysis import analysis\n",
    "#from analysis import analysis\n",
    "#importlib.reload(utilities)\n",
    "#importlib.reload(pointgrid)\n",
    "#importlib.reload(analysis)"
   ]
  },
  {
   "cell_type": "code",
   "execution_count": 2,
   "metadata": {
    "collapsed": true
   },
   "outputs": [],
   "source": [
    "testfile='a-RuCl3_C2m_fromDFT.cif' #a-RuCl3 structure file, SPG: C2/m\n",
    "testfile2='PbCoOsO6_princepneutron.cif' #Pb2CoOsO6 structure file, SPG: P2_1/n (not fully recognised, use spg #14 with setting 2)"
   ]
  },
  {
   "cell_type": "code",
   "execution_count": 3,
   "metadata": {},
   "outputs": [
    {
     "name": "stdout",
     "output_type": "stream",
     "text": [
      "Spacegroup detected:  P2_1/c (14)\n",
      "Number of symmetry operations detected:  4\n"
     ]
    },
    {
     "data": {
      "text/plain": [
       "(u'P2_1/c (14)', 4)"
      ]
     },
     "execution_count": 3,
     "metadata": {},
     "output_type": "execute_result"
    }
   ],
   "source": [
    "utilities.get_spg(testfile2) #determine the spacegroup via spglib implementation in utilities.get_spg"
   ]
  },
  {
   "cell_type": "code",
   "execution_count": 4,
   "metadata": {},
   "outputs": [
    {
     "name": "stdout",
     "output_type": "stream",
     "text": [
      "Approximate maximum number of grid points based on prec_atom and prec_grid:  81956\n",
      "Spacegroup detected from file:  C2/m\n",
      "Number of symmetry operations from file:  8\n",
      "Default setting: 1\n",
      "Point: 110/110 [XXXXXXXXXXXXXXXXXXXX] t=0.39secs\n",
      " 1 x 1 x 1  grid for spacegroup  C2/m  (setting  1 ) gave  100  grid points.\n"
     ]
    }
   ],
   "source": [
    "grid,original_structure=pointgrid.point_grid(testfile,random=100,export_flag=False,export_cif=False,out_struct=True) #get a grid of 100 randomly points in unit cell"
   ]
  },
  {
   "cell_type": "code",
   "execution_count": 5,
   "metadata": {},
   "outputs": [
    {
     "name": "stdout",
     "output_type": "stream",
     "text": [
      "Approximate maximum number of grid points based on prec_atom and prec_grid:  56280\n",
      "Spacegroup set by user:  14\n",
      "Number of symmetry operations from file:  4\n",
      "User setting:  2\n",
      "Point: 1000/1000 [XXXXXXXXXXXXXXXXXXXX] t=2.49secs\n",
      " 10 x 10 x 10  grid for spacegroup  14  (setting  2 ) gave  239  grid points.\n"
     ]
    }
   ],
   "source": [
    "grid2=pointgrid.point_grid(testfile2,10,10,10,set_spg=14,set_spgsetting=2,export_flag=False,export_cif=False) #set SPG and setting explicitly"
   ]
  },
  {
   "cell_type": "code",
   "execution_count": 6,
   "metadata": {
    "scrolled": true
   },
   "outputs": [
    {
     "name": "stdout",
     "output_type": "stream",
     "text": [
      "3  files found.\n",
      "File: 3/3 [XXXXXXXXXXXXXXXXXXXX]\n",
      "QE output read in and summarised.\n",
      "Spacegroup detected from file:  C2/m (12)\n",
      "Default setting: 1\n",
      "Distances between final muon sites calculated.\n",
      "Distance clustering done. Found  3  clusters.\n",
      "Bond order parameter clustering done with  3  clusters.\n",
      "Sorting by energy done.\n",
      "hello: ['Mu_xi', 'Mu_yi', 'Mu_zi', 'Mu_xf', 'Mu_yf', 'Mu_zf', 'E (Ry)', 'dE (Ry)', 'dE (K)', 'NN ion', 'NN dist (A)', 'Multipl', 'Dist cluster', 'Bond order cluster']\n",
      "hey\n",
      "... done.\n"
     ]
    }
   ],
   "source": [
    "analysis.QErel('./a-RuCl3_QEoutput/a-RuCl3.example') #use the analysis program for QE DFT+mu calculations straight out of the box"
   ]
  },
  {
   "cell_type": "code",
   "execution_count": 7,
   "metadata": {
    "scrolled": true
   },
   "outputs": [
    {
     "name": "stdout",
     "output_type": "stream",
     "text": [
      "3  files found.\n",
      "File: 3/3 [XXXXXXXXXXXXXXXXXXXX]\n",
      "QE output read in and summarised.\n",
      "Spacegroup set by user:  14\n",
      "User setting:  2\n",
      "Distances between final muon sites calculated.\n",
      "Distance clustering done. Found  3  clusters.\n",
      "Bond order parameter clustering done with  3  clusters.\n",
      "Sorting by energy done.\n",
      "Writing to output file  ./PbCoOsO6_QEoutput/PbCoOsO6.example.csv\n",
      "hello: ['Mu_xi', 'Mu_yi', 'Mu_zi', 'Mu_xf', 'Mu_yf', 'Mu_zf', 'E (Ry)', 'dE (Ry)', 'dE (K)', 'NN ion', 'NN dist (A)', 'Multipl', 'Dist cluster', 'Bond order cluster']\n",
      "hey\n",
      "... done.\n"
     ]
    }
   ],
   "source": [
    "analysis.QErel('./PbCoOsO6_QEoutput/PbCoOsO6.example',cif_flag=False,set_spg=14,set_spgsetting=2)"
   ]
  },
  {
   "cell_type": "code",
   "execution_count": null,
   "metadata": {
    "collapsed": true
   },
   "outputs": [],
   "source": []
  }
 ],
 "metadata": {
  "kernelspec": {
   "display_name": "Python 2",
   "language": "python",
   "name": "python2"
  },
  "language_info": {
   "codemirror_mode": {
    "name": "ipython",
    "version": 2
   },
   "file_extension": ".py",
   "mimetype": "text/x-python",
   "name": "python",
   "nbconvert_exporter": "python",
   "pygments_lexer": "ipython2",
   "version": "2.7.13"
  }
 },
 "nbformat": 4,
 "nbformat_minor": 2
}
