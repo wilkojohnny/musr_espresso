{
 "cells": [
  {
   "cell_type": "code",
   "execution_count": 5,
   "metadata": {
    "collapsed": true
   },
   "outputs": [],
   "source": [
    "import utilities,pointgrid"
   ]
  },
  {
   "cell_type": "code",
   "execution_count": 6,
   "metadata": {
    "collapsed": true
   },
   "outputs": [],
   "source": []
  },
  {
   "cell_type": "code",
   "execution_count": 7,
   "metadata": {},
   "outputs": [
    {
     "name": "stdout",
     "output_type": "stream",
     "text": [
      "Spacegroup detected: P2_1/c (14)\n",
      "Number of symmetry operations detected: 4\n"
     ]
    },
    {
     "data": {
      "text/plain": [
       "(u'P2_1/c (14)', 4)"
      ]
     },
     "execution_count": 7,
     "metadata": {},
     "output_type": "execute_result"
    }
   ],
   "source": [
    "utilities.get_spg(testfile2) #determine the spacegroup via spglib implementation in utilities.get_spg"
   ]
  },
  {
   "cell_type": "code",
   "execution_count": 4,
   "metadata": {},
   "outputs": [
    {
     "name": "stdout",
     "output_type": "stream",
     "text": [
      "Approximate maximum number of grid points based on prec_atom and prec_grid: 81956\n",
      "Spacegroup detected from file: C2/m\n",
      "Number of symmetry operations set: 8\n",
      "Default setting: 1.\n",
      "Point: 110/110 [XXXXXXXXXXXXXXXXXXXX] t=0.36secs\n",
      "1x1x1 grid for spacegroup C2/m (setting 1) gave 100 grid points.\n",
      "Exporting grid points to a-RuCl3_C2m_fromDFT_100randgrid.txt.\n",
      "Exporting grid points to a-RuCl3_C2m_fromDFT_100randgrid.cif.\n"
     ]
    }
   ],
   "source": [
    "grid,original_structure=pointgrid.point_grid(testfile,random=100,export_flag=True,export_cif=True,out_struct=True) #get a grid of 100 randomly points in unit cell"
   ]
  },
  {
   "cell_type": "code",
   "execution_count": 18,
   "metadata": {},
   "outputs": [
    {
     "name": "stdout",
     "output_type": "stream",
     "text": [
      "Approximate maximum number of grid points based on prec_atom and prec_grid: 56280\n",
      "Spacegroup set by user: 14\n",
      "Number of symmetry operations set: 4\n",
      "User setting: 2.\n",
      "Point: 1000/1000 [XXXXXXXXXXXXXXXXXXXX] t=2.46secs\n",
      "10x10x10 grid for spacegroup 14 (setting 2) gave 239 grid points.\n",
      "Exporting grid points to PbCoOsO6_princepneutron_10x10x10grid.txt.\n",
      "Exporting grid points to PbCoOsO6_princepneutron_10x10x10grid.cif.\n"
     ]
    }
   ],
   "source": [
    "grid2=pointgrid.point_grid(testfile2,10,10,10,set_spg=14,set_spgsetting=2,export_flag=True,export_cif=True) #set SPG and setting explicitly"
   ]
  },
  {
   "cell_type": "code",
   "execution_count": null,
   "metadata": {
    "collapsed": true
   },
   "outputs": [],
   "source": []
  }
 ],
 "metadata": {
  "kernelspec": {
   "display_name": "Python 2",
   "language": "python",
   "name": "python2"
  },
  "language_info": {
   "codemirror_mode": {
    "name": "ipython",
    "version": 2
   },
   "file_extension": ".py",
   "mimetype": "text/x-python",
   "name": "python",
   "nbconvert_exporter": "python",
   "pygments_lexer": "ipython2",
   "version": "2.7.13"
  }
 },
 "nbformat": 4,
 "nbformat_minor": 2
}
